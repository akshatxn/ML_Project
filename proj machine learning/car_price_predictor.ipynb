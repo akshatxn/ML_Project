{
 "cells": [
  {
   "cell_type": "markdown",
   "metadata": {},
   "source": [
    "Importing the libraries\n",
    "\n",
    "Linear regression is a supervised learning algorithm used to pridict a continus data from a given set of labled data.When we have infinit large range of possible output value, linear regression is a good choice.\n",
    "\n",
    "In this model i have trained a model to pridict the output price of the car based on 4 input featrures, i.e the enginsie, stroke, horsepower, peakrpm\n",
    "\n",
    "MODEL: \n",
    "$$ f_{\\mathbf{w},b}(\\mathbf{x}) =  w_0x_0 + w_1x_1 +... + w_{n-1}x_{n-1} + b \\tag{1}$$\n",
    "or in vector notation:\n",
    "$$ f_{\\mathbf{w},b}(\\mathbf{x}) = \\mathbf{w} \\cdot \\mathbf{x} + b  \\tag{2} $$ \n"
   ]
  },
  {
   "cell_type": "code",
   "execution_count": 116,
   "metadata": {},
   "outputs": [],
   "source": [
    "import pandas as pd\n",
    "import numpy as np\n",
    "import math\n",
    "import matplotlib.pylab as plt"
   ]
  },
  {
   "cell_type": "markdown",
   "metadata": {},
   "source": [
    "Importing the data set and spliting it into train,tests and cross validation set as follow :\n",
    "train set:60%\n",
    "test  set:20%\n",
    "Cv    set:20%"
   ]
  },
  {
   "cell_type": "code",
   "execution_count": 117,
   "metadata": {},
   "outputs": [
    {
     "name": "stdout",
     "output_type": "stream",
     "text": [
      "(205, 4)\n",
      "(205, 1)\n"
     ]
    }
   ],
   "source": [
    "x1=pd.read_csv(\"./CarPrice_Assignment_1.csv\")\n",
    "x=np.array(x1)[0:,0:4]\n",
    "y=np.array(x1)[0:,4:]\n",
    "#spliting data set\n",
    "xtrain=x[0:120]\n",
    "ytrain=y[0:120]\n",
    "xtest=x[120:180]\n",
    "ytest=y[120:180]\n",
    "xcv=x[180:]\n",
    "ycv=y[180:]\n",
    "#making some observations\n",
    "print(x.shape)\n",
    "print(y.shape)\n",
    "\n"
   ]
  },
  {
   "cell_type": "code",
   "execution_count": 118,
   "metadata": {},
   "outputs": [],
   "source": [
    "# w=np.array([1,2,3,4])\n",
    "# xtrain[0]\n",
    "# print(f\"the type of w is {type(w)} and the type of xtrain is {type(xtrain)}\")\n",
    "# print(f\"the shape of w is {w.shape} and the shape of xtrain[0] is {xtrain[0].shape}\")\n",
    "# print(f\"the value of w.xtrain[0] is {np.dot(w,xtrain[0])}\")"
   ]
  },
  {
   "cell_type": "markdown",
   "metadata": {},
   "source": [
    "The model for price prediction is defined as follow :\n",
    "\n",
    "\n",
    "$$ f_{\\mathbf{w},b}(\\mathbf{x}) =  w_0x_0 + w_1x_1 +... + w_{n-1}x_{n-1} + b \\tag{1}$$\n",
    "or in vector notation:\n",
    "$$ f_{\\mathbf{w},b}(\\mathbf{x}) = \\mathbf{w} \\cdot \\mathbf{x} + b  \\tag{2} $$ \n",
    "where $\\cdot$ is a vector `dot product`\n",
    ",here the value of n is 3\n",
    "\n",
    "\n",
    "\n",
    "\n",
    "\n",
    "\n",
    "The cost function for the model is defined as follow: \n",
    "$$J(\\mathbf{w},b) = \\frac{1}{2m} \\sum\\limits_{i = 0}^{m-1} (f_{\\mathbf{w},b}(\\mathbf{x}^{(i)}) - y^{(i)})^2 \\tag{3}$$ \n",
    "\n"
   ]
  },
  {
   "cell_type": "code",
   "execution_count": 119,
   "metadata": {},
   "outputs": [],
   "source": [
    "# cost function \n",
    "def compute_cost(x,y,w,b):\n",
    "    # the shape of x vectore is (150,4) - ndarrya\n",
    "    # the shape of y vectore is (150,1) -ndarray\n",
    "    # the shape of w vectore is (4,)    -ndarray\n",
    "    # the value b is a scaler \n",
    "    m=x.shape[0]\n",
    "    total_cost=0\n",
    "    for i in range(m):\n",
    "        fwb=np.dot(w,xtrain[i]) + b\n",
    "        cost=(fwb-y[i][0])**2\n",
    "        total_cost+=cost\n",
    "    total_cost=total_cost/(2*m)\n",
    "    return total_cost\n",
    "\n",
    "\n",
    "# testing the function\n",
    "\n"
   ]
  },
  {
   "cell_type": "markdown",
   "metadata": {},
   "source": [
    "<a name=\"toc_15456_5\"></a>\n",
    "#  Gradient Descent With Multiple Variables\n",
    "Gradient descent for multiple variables:\n",
    "\n",
    "$$\\begin{align*} \\text{repeat}&\\text{ until convergence:} \\; \\lbrace \\newline\\;\n",
    "& w_j = w_j -  \\alpha \\frac{\\partial J(\\mathbf{w},b)}{\\partial w_j} \\  \\; & \\text{for j = 0..n-1}\\newline\n",
    "&b\\ \\ = b -  \\alpha \\frac{\\partial J(\\mathbf{w},b)}{\\partial b}  \\newline \\rbrace\n",
    "\\end{align*}$$\n",
    "\n",
    "where, n is the number of features, parameters $w_j$,  $b$, are updated simultaneously and where  \n",
    "\n",
    "$$\n",
    "\\begin{align}\n",
    "\\frac{\\partial J(\\mathbf{w},b)}{\\partial w_j}  &= \\frac{1}{m} \\sum\\limits_{i = 0}^{m-1} (f_{\\mathbf{w},b}(\\mathbf{x}^{(i)}) - y^{(i)})x_{j}^{(i)} \\ \\\\\n",
    "\\frac{\\partial J(\\mathbf{w},b)}{\\partial b}  &= \\frac{1}{m} \\sum\\limits_{i = 0}^{m-1} (f_{\\mathbf{w},b}(\\mathbf{x}^{(i)}) - y^{(i)}) \\\n",
    "\\end{align}\n",
    "$$\n",
    "* m is the number of training examples in the data set\n",
    "\n",
    "    \n",
    "*  $f_{\\mathbf{w},b}(\\mathbf{x}^{(i)})$ is the model's prediction, while $y^{(i)}$ is the target value\n"
   ]
  },
  {
   "cell_type": "code",
   "execution_count": 120,
   "metadata": {},
   "outputs": [],
   "source": [
    "#gradient descent\n",
    "def compute_gradient(x,y,w,b):\n",
    "    djdw=0\n",
    "    djdb=0\n",
    "    m=x.shape[0]\n",
    "    for i in range(m):\n",
    "        fwb=np.dot(w,xtrain[i]) + b\n",
    "        djdwi=(fwb-y[i][0])*sum(w)\n",
    "        djdbi=(fwb-y[i][0])\n",
    "        djdw+=djdwi\n",
    "        djdb+=djdbi\n",
    "    djdw=djdw/m\n",
    "    djdb=djdb/m\n",
    "    return djdw,djdb\n"
   ]
  },
  {
   "cell_type": "markdown",
   "metadata": {},
   "source": [
    "Once the gradinet dj_dw and dj_db are converged we force the gradient descent to stop using the below function"
   ]
  },
  {
   "cell_type": "code",
   "execution_count": 121,
   "metadata": {},
   "outputs": [],
   "source": [
    "# this function is used to stop gradient descent once gradient descent ha successfully converged\n",
    "\n",
    "def is_converging(Hist):\n",
    "    x=Hist[-1][0]\n",
    "    y=Hist[-1][1]\n",
    "    if abs(x)<0.5 and abs(y)<0.5:\n",
    "        return True\n",
    "    return False"
   ]
  },
  {
   "cell_type": "code",
   "execution_count": 122,
   "metadata": {},
   "outputs": [],
   "source": [
    "def gradient_descent(x,y,w,b,alpha,no_of_iter,compute_cost,compute_gradient):\n",
    "    # the shape of x vectore is (150,4) - ndarrya\n",
    "    # the shape of y vectore is (150,1) -ndarray\n",
    "    # the shape of w vectore is (4,)    -ndarray\n",
    "    # the value b is a scaler \n",
    "    jHist=[]\n",
    "    gradHist=[]\n",
    "    djdwHist=[]\n",
    "    djdbHist=[]\n",
    "    wHist=[]\n",
    "    bHist=[]\n",
    "    for i in range(no_of_iter):\n",
    "        #breaking loop if converged\n",
    "        if i!=0:\n",
    "            if is_converging(gradHist):\n",
    "                print(f\"successfully converged at {i}th itertation\")\n",
    "                break\n",
    "        #calculating the gradient\n",
    "        djdw,djdb=compute_gradient(x,y,w,b)\n",
    "        #simulataneous updating\n",
    "        w=w-((alpha)*djdw)\n",
    "        b=b-((alpha)*djdb)\n",
    "        #storing the data set for analysis\n",
    "        jHist.append(compute_cost(x,y,w,b))\n",
    "        gradHist.append(compute_gradient(x,y,w,b))\n",
    "        djdwHist.append(djdw)\n",
    "        djdbHist.append(djdb)\n",
    "        wHist.append(w)\n",
    "        bHist.append(b)\n",
    "        #prinitng output on every 10th iteration\n",
    "        if i%10==0:\n",
    "            print(f\"cost: {compute_cost(x,y,w,b)} gradient value: {compute_gradient(x,y,w,b)}\")\n",
    "    return w,b,jHist,gradHist,djdwHist,djdbHist,wHist,bHist"
   ]
  },
  {
   "cell_type": "code",
   "execution_count": 123,
   "metadata": {},
   "outputs": [
    {
     "name": "stdout",
     "output_type": "stream",
     "text": [
      "cost: 78120627.49320938 gradient value: (68457.34924048997, 7056.37719744673)\n",
      "cost: 61778190.8889217 gradient value: (33508.31357414089, 4345.696396416059)\n",
      "cost: 56132364.88670375 gradient value: (19409.37791337635, 2914.5022360372122)\n",
      "cost: 53720088.79241353 gradient value: (12348.77652056689, 2049.759465800593)\n",
      "cost: 52550720.83111473 gradient value: (8329.909295756637, 1484.91944874676)\n",
      "cost: 51933825.96591525 gradient value: (5842.29801873493, 1097.1662084581465)\n",
      "cost: 51587693.23753162 gradient value: (4210.220134432097, 821.8724028533425)\n",
      "cost: 51383939.552126005 gradient value: (3093.622070499765, 621.7413436412136)\n",
      "cost: 51259187.07669701 gradient value: (2305.7300521848324, 473.74322174559535)\n",
      "cost: 51180197.78754206 gradient value: (1736.7685567391152, 362.91175646383294)\n",
      "cost: 51128690.98942048 gradient value: (1318.6435413431727, 279.13002804753273)\n",
      "cost: 51094214.26790173 gradient value: (1007.2325734381002, 215.34600589599577)\n",
      "cost: 51070591.28566757 gradient value: (772.9095512120923, 166.52436804743658)\n"
     ]
    },
    {
     "name": "stdout",
     "output_type": "stream",
     "text": [
      "cost: 51054065.44195533 gradient value: (595.1936844267611, 129.00117302354275)\n",
      "cost: 51042291.24202203 gradient value: (459.585084067097, 100.07044729773223)\n",
      "cost: 51033768.17919015 gradient value: (355.61710888670177, 77.71023730336687)\n",
      "cost: 51027514.06144756 gradient value: (275.61480225689303, 60.395779274964895)\n",
      "cost: 51022871.86932412 gradient value: (213.8785546686671, 46.96893776761521)\n",
      "cost: 51019393.022668846 gradient value: (166.13250679611178, 36.54507477425972)\n",
      "cost: 51016765.3636785 gradient value: (129.1428161881976, 28.44547181624448)\n",
      "cost: 51014767.84196553 gradient value: (100.44793671937038, 22.147595458865926)\n",
      "cost: 51013241.445069075 gradient value: (78.16461801144898, 17.248068485447128)\n",
      "cost: 51012070.190533 gradient value: (60.84624612143569, 13.434840328852315)\n",
      "cost: 51011168.45967577 gradient value: (47.37808960949704, 10.466112189267314)\n",
      "cost: 51010472.39911431 gradient value: (36.89902324226776, 8.15428017076414)\n",
      "cost: 51009933.97803883 gradient value: (28.742534824308024, 6.353642305093199)\n",
      "cost: 51009516.81057968 gradient value: (22.391955563920057, 4.9509509915852865)\n",
      "cost: 51009193.172390416 gradient value: (17.446294526504172, 3.85813018340883)\n",
      "cost: 51008941.83946402 gradient value: (13.594048903325564, 3.006647874183054)\n",
      "cost: 51008746.50266793 gradient value: (10.593056778409373, 2.343159476989913)\n",
      "cost: 51008594.59180897 gradient value: (8.254954619324272, 1.8261301069266664)\n",
      "cost: 51008476.39526091 gradient value: (6.433160413742808, 1.4232127869253235)\n",
      "cost: 51008384.39568592 gradient value: (5.013566442363917, 1.1092115625159567)\n",
      "cost: 51008312.76555313 gradient value: (3.907320795050655, 0.8644979158918977)\n",
      "cost: 51008256.981980525 gradient value: (3.045222837496331, 0.6737789192406671)\n",
      "cost: 51008213.53141598 gradient value: (2.3733680991935397, 0.5251385869431033)\n",
      "cost: 51008179.68241992 gradient value: (1.8497618137281824, 0.40929158520248166)\n",
      "cost: 51008153.31036639 gradient value: (1.4416843075114958, 0.3190021055299803)\n",
      "cost: 51008132.76190183 gradient value: (1.1236404877680253, 0.24863125625266547)\n",
      "cost: 51008116.74996522 gradient value: (0.8757634313187372, 0.19378449353942415)\n",
      "cost: 51008104.27236662 gradient value: (0.6825712048536298, 0.1510369460253787)\n",
      "cost: 51008094.54857102 gradient value: (0.5319985728180109, 0.11771940306296529)\n",
      "successfully converged at 414th itertation\n"
     ]
    }
   ],
   "source": [
    "#initial parameters\n",
    "w_initial=np.array([1,2,3,4])\n",
    "b_initial=1\n",
    "alpha=(1/1000000)\n",
    "no_of_iter=1000\n",
    "w_final,b_final,jHist_final,gradHist_final,djdwHist_final,djdbHist_final,wHist_final,bHist_final=gradient_descent(xtrain[0:100],ytrain[0:100],w_initial,b_initial,alpha,no_of_iter,compute_cost,compute_gradient)\n",
    "\n",
    "\n",
    "# plt.plot([k for k in range(1,len(jHist_final)+1)],jHist_final,c='r')\n",
    "# plt.xlabel(\"no of iteration\")\n",
    "# plt.ylabel(\"value of cost\")"
   ]
  },
  {
   "cell_type": "code",
   "execution_count": 124,
   "metadata": {},
   "outputs": [
    {
     "data": {
      "text/plain": [
       "Text(0, 0.5, 'value of cost')"
      ]
     },
     "execution_count": 124,
     "metadata": {},
     "output_type": "execute_result"
    },
    {
     "data": {
      "image/png": "[encoded data removed]",
      "text/plain": [
       "<Figure size 640x480 with 1 Axes>"
      ]
     },
     "metadata": {},
     "output_type": "display_data"
    }
   ],
   "source": [
    "plt.plot([k for k in range(1,len(jHist_final)+1)],jHist_final,c='r')\n",
    "plt.xlabel(\"no of iteration\")\n",
    "plt.ylabel(\"value of cost\")"
   ]
  },
  {
   "cell_type": "code",
   "execution_count": 125,
   "metadata": {},
   "outputs": [
    {
     "name": "stdout",
     "output_type": "stream",
     "text": [
      "[-0.37019933  0.62980067  1.62980067  2.62980067]\n"
     ]
    },
    {
     "data": {
      "image/png": "[encoded data removed]",
      "text/plain": [
       "<Figure size 640x480 with 2 Axes>"
      ]
     },
     "metadata": {},
     "output_type": "display_data"
    }
   ],
   "source": [
    "#plotting the slopes\n",
    "plt.subplot(121)\n",
    "plt.plot([k for k in range(1,len(djdwHist_final)+1)], djdwHist_final,c='r')\n",
    "plt.xlabel(\"no of iteration\")\n",
    "plt.ylabel(\"slopw dj_dw\")\n",
    "plt.subplot(122)\n",
    "plt.plot([k for k in range(1,len(djdbHist_final)+1)], djdbHist_final,c='b')\n",
    "plt.xlabel(\"no of iteration\")\n",
    "plt.ylabel(\"slopw dj_db\")\n",
    "print(w_final)\n",
    "\n",
    "\n"
   ]
  },
  {
   "cell_type": "code",
   "execution_count": 126,
   "metadata": {},
   "outputs": [
    {
     "name": "stdout",
     "output_type": "stream",
     "text": [
      "the actual value is [13495.]\n",
      "the pridicted value is 13284.275911665485\n"
     ]
    }
   ],
   "source": [
    "k=0\n",
    "print(f\"the actual value is {ytrain[k]}\")\n",
    "fwb=np.dot(w_final,xtrain[k]) + b_final\n",
    "print(f\"the pridicted value is {fwb}\")\n",
    "\n"
   ]
  },
  {
   "cell_type": "code",
   "execution_count": 135,
   "metadata": {},
   "outputs": [
    {
     "name": "stdout",
     "output_type": "stream",
     "text": [
      "test #0\n",
      "the actual value is [15690.]\n",
      "the pridicted value is 13871.645938216345\n",
      "total error in pridiction [11.5892547] %\n",
      "test #1\n",
      "the actual value is [15750.]\n",
      "the pridicted value is 13875.347931562277\n",
      "total error in pridiction [11.90255282] %\n",
      "test #2\n",
      "the actual value is [7775.]\n",
      "the pridicted value is 12677.652643644517\n",
      "total error in pridiction [63.05662564] %\n",
      "test #3\n",
      "the actual value is [7975.]\n",
      "the pridicted value is 13910.403973020853\n",
      "total error in pridiction [74.42512819] %\n",
      "test #4\n",
      "the actual value is [7995.]\n",
      "the pridicted value is 12677.652643644517\n",
      "total error in pridiction [58.56976415] %\n",
      "test #5\n",
      "the actual value is [8195.]\n",
      "the pridicted value is 13910.403973020853\n",
      "total error in pridiction [69.74257441] %\n",
      "test #6\n",
      "the actual value is [8495.]\n",
      "the pridicted value is 13910.403973020853\n",
      "total error in pridiction [63.74813388] %\n",
      "test #7\n",
      "the actual value is [9495.]\n",
      "the pridicted value is 11914.789254669004\n",
      "total error in pridiction [25.48487893] %\n",
      "test #8\n",
      "the actual value is [9995.]\n",
      "the pridicted value is 14592.301149353641\n",
      "total error in pridiction [45.9960095] %\n",
      "test #9\n",
      "the actual value is [11595.]\n",
      "the pridicted value is 14576.003142699574\n",
      "total error in pridiction [25.70938459] %\n"
     ]
    }
   ],
   "source": [
    "for k in range(10):\n",
    "    print(f\"test #{k}\")\n",
    "    print(f\"the actual value is {ycv[k]}\")\n",
    "    print(f\"the pridicted value is {np.dot(w_final,xcv[k] + b_final)}\")\n",
    "    print(f\"total error in pridiction {(abs(np.dot(w_final,xcv[k] + b_final)-ycv[k])/ycv[k])*100} %\")"
   ]
  },
  {
   "cell_type": "markdown",
   "metadata": {},
   "source": [
    "Checking high variance and high bias\n"
   ]
  },
  {
   "cell_type": "code",
   "execution_count": 128,
   "metadata": {},
   "outputs": [],
   "source": [
    "def compute_single_cost(x,y,w,b):\n",
    "    fwb=np.dot(x,w)+b\n",
    "    cost=(fwb-y)**2\n",
    "    return cost[0]\n",
    "#computing Jtrain\n",
    "cost=0\n",
    "cost_Hist=[]\n",
    "for k in range(xtrain.shape[0]):\n",
    "    cost+=compute_single_cost(xtrain[k],ytrain[k],w_final,b_final)\n",
    "    cost_Hist.append(compute_single_cost(xtrain[k],ytrain[k],w_final,b_final))\n",
    "#computing Jcv\n",
    "cvCost=0\n",
    "cvCost_Hist=[]\n",
    "for k in range(xcv.shape[0]):\n",
    "    cvCost+=compute_single_cost(xcv[k],ycv[k],w_final,b_final)\n",
    "    cvCost_Hist.append(compute_single_cost(xcv[k],ycv[k],w_final,b_final))\n",
    "\n",
    "\n"
   ]
  },
  {
   "cell_type": "code",
   "execution_count": 134,
   "metadata": {},
   "outputs": [
    {
     "data": {
      "text/plain": [
       "[<matplotlib.lines.Line2D at 0x26d174829b0>]"
      ]
     },
     "execution_count": 134,
     "metadata": {},
     "output_type": "execute_result"
    },
    {
     "data": {
      "image/png": "[encoded data removed]",
      "text/plain": [
       "<Figure size 640x480 with 1 Axes>"
      ]
     },
     "metadata": {},
     "output_type": "display_data"
    }
   ],
   "source": [
    "plt.plot([k for k in range(1,len(cost_Hist)+1)] , cost_Hist , c='r')\n",
    "plt.plot([k for k in range(1,len(cvCost_Hist)+1)],cvCost_Hist,c='b')\n"
   ]
  },
  {
   "cell_type": "markdown",
   "metadata": {},
   "source": [
    "Conclusion: the error values of Jtrain are much higher as compared to Jcv. we can conclude that its a high bias model"
   ]
  },
  {
   "cell_type": "markdown",
   "metadata": {},
   "source": []
  }
 ],
 "metadata": {
  "kernelspec": {
   "display_name": "Python 3",
   "language": "python",
   "name": "python3"
  },
  "language_info": {
   "codemirror_mode": {
    "name": "ipython",
    "version": 3
   },
   "file_extension": ".py",
   "mimetype": "text/x-python",
   "name": "python",
   "nbconvert_exporter": "python",
   "pygments_lexer": "ipython3",
   "version": "3.10.6"
  }
 },
 "nbformat": 4,
 "nbformat_minor": 2
}
